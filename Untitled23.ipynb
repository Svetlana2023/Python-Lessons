{
  "metadata": {
    "language_info": {
      "codemirror_mode": {
        "name": "python",
        "version": 3
      },
      "file_extension": ".py",
      "mimetype": "text/x-python",
      "name": "python",
      "nbconvert_exporter": "python",
      "pygments_lexer": "ipython3",
      "version": "3.8"
    },
    "kernelspec": {
      "name": "python",
      "display_name": "Pyolite",
      "language": "python"
    }
  },
  "nbformat_minor": 4,
  "nbformat": 4,
  "cells": [
    {
      "cell_type": "code",
      "source": "import numpy as np\na=np.array([-1,1])\nprint(a)\nb=np.array([1,1])\nprint(b)\nc=np.array([1,0])\nprint(c)\nd=np.array([0,1])\nprint(d)\n\ndef dp(x,y):\n    l=x.size\n    i=0\n    z=0\n    while i<l:\n        z=z+x[i]*y[i]\n        i=i+1\n    print(\"dot product\",x,\"and\",y,\"is\",z)\n    return(z)\n\ndp(a,b)",
      "metadata": {
        "trusted": true
      },
      "execution_count": 1,
      "outputs": [
        {
          "name": "stdout",
          "text": "[-1  1]\n[1 1]\n[1 0]\n[0 1]\ndot product [-1  1] and [1 1] is 0\n",
          "output_type": "stream"
        },
        {
          "execution_count": 1,
          "output_type": "execute_result",
          "data": {
            "text/plain": "0"
          },
          "metadata": {}
        }
      ]
    },
    {
      "cell_type": "code",
      "source": "dp(c,d)",
      "metadata": {
        "trusted": true
      },
      "execution_count": 2,
      "outputs": [
        {
          "name": "stdout",
          "text": "dot product [1 0] and [0 1] is 0\n",
          "output_type": "stream"
        },
        {
          "execution_count": 2,
          "output_type": "execute_result",
          "data": {
            "text/plain": "0"
          },
          "metadata": {}
        }
      ]
    },
    {
      "cell_type": "code",
      "source": "dp(b,d)",
      "metadata": {
        "trusted": true
      },
      "execution_count": 3,
      "outputs": [
        {
          "name": "stdout",
          "text": "dot product [1 1] and [0 1] is 1\n",
          "output_type": "stream"
        },
        {
          "execution_count": 3,
          "output_type": "execute_result",
          "data": {
            "text/plain": "1"
          },
          "metadata": {}
        }
      ]
    },
    {
      "cell_type": "code",
      "source": "arr1=np.array([1,2,3])\narr2=np.array([8,9,10])\nprint(\"arr1+arr2=\",np.add(arr1,arr2))\nprint(\"arr1-arr2=\",np.subtract(arr1,arr2))\nprint(\"arr1*arr2=\",np.multiply(arr1,arr2))\nprint(\"arr1/arr2=\",np.divide(arr1,arr2))\nprint(\"arr1.arr2=\",np.dot(arr1,arr2))           ",
      "metadata": {
        "trusted": true
      },
      "execution_count": 4,
      "outputs": [
        {
          "name": "stdout",
          "text": "arr1+arr2= [ 9 11 13]\narr1-arr2= [-7 -7 -7]\narr1*arr2= [ 8 18 30]\narr1/arr2= [0.125      0.22222222 0.3       ]\narr1.arr2= 56\n",
          "output_type": "stream"
        }
      ]
    },
    {
      "cell_type": "code",
      "source": "",
      "metadata": {},
      "execution_count": null,
      "outputs": []
    }
  ]
}