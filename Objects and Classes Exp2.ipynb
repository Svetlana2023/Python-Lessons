{
  "metadata": {
    "language_info": {
      "codemirror_mode": {
        "name": "python",
        "version": 3
      },
      "file_extension": ".py",
      "mimetype": "text/x-python",
      "name": "python",
      "nbconvert_exporter": "python",
      "pygments_lexer": "ipython3",
      "version": "3.8"
    },
    "kernelspec": {
      "name": "python",
      "display_name": "Pyolite",
      "language": "python"
    }
  },
  "nbformat_minor": 4,
  "nbformat": 4,
  "cells": [
    {
      "cell_type": "code",
      "source": "class AnalysedText(object):\n    \n    def __init__ (self, text):  \n        self.text=text.lower()\n        l=self.text\n        for word in l:\n             if word=='.' or word==',' or word=='!' or word=='?':\n                l=l.replace(word,'')\n        self.text=l\n       \n    def freqAll(self):\n        ST=self.text\n        ST=ST.split()\n        TextDict={}\n        l=len(ST)\n        for i in range(l):\n            if i<l and ST[i] not in TextDict:\n                n=ST.count(ST[i])\n                TextDict[ST[i]]=n\n                i=i+1\n        print(TextDict)\n        self.text=TextDict\n        return(self.text)   \n    \n    def freq0f(self, word):\n        TextDict=self.text\n        if word in TextDict:\n                w=TextDict[word]\n                print('Number of the occurences of', word, 'in the text', w)\n                return(w)\n        else:\n                print(word, 'is not in the text')\n        return",
      "metadata": {
        "trusted": true
      },
      "execution_count": 14,
      "outputs": []
    },
    {
      "cell_type": "code",
      "source": "MyText=\"Hi, Mary is in Rhodes island. Rhodes is a nice island! Guess what? Mary invited me, too!\"\nprint(MyText)\nMT=AnalysedText(MyText) \nMT.text\n\nMT.freqAll()\n\nMT.freq0f('mary')",
      "metadata": {
        "trusted": true
      },
      "execution_count": 14,
      "outputs": [
        {
          "name": "stdout",
          "text": "Hi, Mary is in Rhodes island. Rhodes is a nice island! Guess what? Mary invited me, too!\n{'hi': 1, 'mary': 2, 'is': 2, 'in': 1, 'rhodes': 2, 'island': 2, 'a': 1, 'nice': 1, 'guess': 1, 'what': 1, 'invited': 1, 'me': 1, 'too': 1}\nNumber of the occurences of mary in the text 2\n",
          "output_type": "stream"
        },
        {
          "execution_count": 14,
          "output_type": "execute_result",
          "data": {
            "text/plain": "2"
          },
          "metadata": {}
        }
      ]
    },
    {
      "cell_type": "code",
      "source": "",
      "metadata": {},
      "execution_count": null,
      "outputs": []
    }
  ]
}