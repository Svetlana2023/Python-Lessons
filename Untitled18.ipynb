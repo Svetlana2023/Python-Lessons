{
  "metadata": {
    "language_info": {
      "codemirror_mode": {
        "name": "python",
        "version": 3
      },
      "file_extension": ".py",
      "mimetype": "text/x-python",
      "name": "python",
      "nbconvert_exporter": "python",
      "pygments_lexer": "ipython3",
      "version": "3.8"
    },
    "kernelspec": {
      "name": "python",
      "display_name": "Pyolite",
      "language": "python"
    }
  },
  "nbformat_minor": 4,
  "nbformat": 4,
  "cells": [
    {
      "cell_type": "code",
      "source": "#Run this prior to starting the exercise\nfrom random import randint as rnd\n\nmemReg = 'members.txt'\nexReg = 'inactive.txt'\nfee =('yes','no')\n\ndef genFiles(current,old):\n    with open(current,'w+') as writefile: \n        writefile.write('Membership No  Date Joined  Active  \\n')\n        data = \"{:^13}  {:<11}  {:<6}\\n\"\n\n        for rowno in range(20):\n            date = str(rnd(2015,2020))+ '-' + str(rnd(1,12))+'-'+str(rnd(1,25))\n            writefile.write(data.format(rnd(10000,99999),date,fee[rnd(0,1)]))\n\n\n    with open(old,'w+') as writefile: \n        writefile.write('Membership No  Date Joined  Active  \\n')\n        data = \"{:^13}  {:<11}  {:<6}\\n\"\n        for rowno in range(3):\n            date = str(rnd(2015,2020))+ '-' + str(rnd(1,12))+'-'+str(rnd(1,25))\n            writefile.write(data.format(rnd(10000,99999),date,fee[1]))\n\n\ngenFiles(memReg,exReg)",
      "metadata": {
        "trusted": true
      },
      "execution_count": 64,
      "outputs": []
    },
    {
      "cell_type": "code",
      "source": "def cleanFiles(currentMem, exMem):\n    with open(currentMem, \"r+\") as cm:\n        with open(exMem, \"a+\") as em:\n            cm.seek(0)\n            CM=cm.readlines()\n            print(CM)\n            em.seek(0)\n            print(em.read())\n            CMApp=[CM[0]]\n            for line in CM:\n                if \"no\" in line:\n                    em.write(line)\n                else:\n                    CMApp.append(line)\n            del CMApp[0]\n            cm.seek(0)\n            for line in CMApp:\n                cm.write(line)\n            cm.truncate()  \n            cm.seek(0)\n\nmemReg='members.txt'\nexReg='inactive.txt'\ncleanFiles(memReg,exReg)",
      "metadata": {
        "trusted": true
      },
      "execution_count": 65,
      "outputs": [
        {
          "name": "stdout",
          "text": "['Membership No  Date Joined  Active  \\n', '    52883      2015-4-12    no    \\n', '    74553      2018-8-19    yes   \\n', '    60335      2015-3-13    no    \\n', '    27764      2019-8-16    yes   \\n', '    66052      2018-11-19   no    \\n', '    50962      2019-9-12    yes   \\n', '    72274      2019-4-16    yes   \\n', '    98280      2017-7-7     yes   \\n', '    64191      2017-1-13    yes   \\n', '    20231      2015-7-15    no    \\n', '    25133      2015-1-11    yes   \\n', '    71878      2018-12-18   no    \\n', '    22896      2019-4-5     no    \\n', '    47043      2019-11-24   no    \\n', '    34755      2018-8-10    no    \\n', '    51103      2019-12-3    yes   \\n', '    51577      2016-6-18    yes   \\n', '    22516      2016-1-1     yes   \\n', '    84958      2020-1-23    no    \\n', '    86125      2017-11-8    yes   \\n']\nMembership No  Date Joined  Active  \n    14411      2018-5-24    no    \n    60438      2020-5-20    no    \n    21272      2017-1-23    no    \n\n",
          "output_type": "stream"
        }
      ]
    },
    {
      "cell_type": "code",
      "source": "with open(memReg,'r') as M:\n    print(\"Active members: \\n\")\n    print(M.read())\n    \nwith open(exReg, 'r') as E:\n    print(\"\\n Inactive members: \\n\")\n    print(E.read())",
      "metadata": {
        "trusted": true
      },
      "execution_count": 66,
      "outputs": [
        {
          "name": "stdout",
          "text": "Active members: \n\nMembership No  Date Joined  Active  \n    74553      2018-8-19    yes   \n    27764      2019-8-16    yes   \n    50962      2019-9-12    yes   \n    72274      2019-4-16    yes   \n    98280      2017-7-7     yes   \n    64191      2017-1-13    yes   \n    25133      2015-1-11    yes   \n    51103      2019-12-3    yes   \n    51577      2016-6-18    yes   \n    22516      2016-1-1     yes   \n    86125      2017-11-8    yes   \n\n\n Inactive members: \n\nMembership No  Date Joined  Active  \n    14411      2018-5-24    no    \n    60438      2020-5-20    no    \n    21272      2017-1-23    no    \n    52883      2015-4-12    no    \n    60335      2015-3-13    no    \n    66052      2018-11-19   no    \n    20231      2015-7-15    no    \n    71878      2018-12-18   no    \n    22896      2019-4-5     no    \n    47043      2019-11-24   no    \n    34755      2018-8-10    no    \n    84958      2020-1-23    no    \n\n",
          "output_type": "stream"
        }
      ]
    },
    {
      "cell_type": "code",
      "source": "",
      "metadata": {},
      "execution_count": null,
      "outputs": []
    }
  ]
}