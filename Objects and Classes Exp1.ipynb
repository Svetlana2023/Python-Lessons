{
  "metadata": {
    "language_info": {
      "codemirror_mode": {
        "name": "python",
        "version": 3
      },
      "file_extension": ".py",
      "mimetype": "text/x-python",
      "name": "python",
      "nbconvert_exporter": "python",
      "pygments_lexer": "ipython3",
      "version": "3.8"
    },
    "kernelspec": {
      "name": "python",
      "display_name": "Pyolite",
      "language": "python"
    }
  },
  "nbformat_minor": 4,
  "nbformat": 4,
  "cells": [
    {
      "cell_type": "code",
      "source": "",
      "metadata": {},
      "execution_count": null,
      "outputs": []
    },
    {
      "cell_type": "code",
      "source": "\ndef fmT(text):\n    l=text.lower()\n    for word in l:\n         if word=='.' or word==',' or word=='!' or word=='?':\n            l=l.replace(word,'')\n    global fmtText\n    fmtText=l\n    return(fmtText)\n         \ndef freqAll(text):\n    ST=fmtText.split()\n    global TextDict\n    TextDict={}\n    l=len(ST)\n    for i in range(l):\n        if i<l and ST[i] not in TextDict:\n            n=ST.count(ST[i])\n            TextDict[ST[i]]=n\n            i=i+1\n    print(TextDict)\n    return(TextDict)   \n    \ndef freq0f(text, word):\n    if word in TextDict:\n            w=TextDict[word]\n            print('Number of the occurences of', word, 'in the text', w)\n            return(w)\n    else:\n            print(word, 'is not in the text')\n    return\n      \ndef AnalysedText(text,word):\n    fmT(text)\n    freqAll(text)\n    freq0f(text,word)",
      "metadata": {
        "trusted": true
      },
      "execution_count": 1,
      "outputs": []
    },
    {
      "cell_type": "code",
      "source": " \nMyText=\"Hi, Mary is in Rhodes island. Rhodes is a nice island! Guess what? Mary invited me, too!\"\nprint(MyText)\nAnalysedText(MyText,'nick')  ",
      "metadata": {
        "trusted": true
      },
      "execution_count": 4,
      "outputs": [
        {
          "name": "stdout",
          "text": "Hi, Mary is in Rhodes island. Rhodes is a nice island! Guess what? Mary invited me, too!\n{'hi': 1, 'mary': 2, 'is': 2, 'in': 1, 'rhodes': 2, 'island': 2, 'a': 1, 'nice': 1, 'guess': 1, 'what': 1, 'invited': 1, 'me': 1, 'too': 1}\nnick is not in the text\n",
          "output_type": "stream"
        }
      ]
    },
    {
      "cell_type": "code",
      "source": "",
      "metadata": {},
      "execution_count": null,
      "outputs": []
    }
  ]
}