{
  "metadata": {
    "language_info": {
      "codemirror_mode": {
        "name": "python",
        "version": 3
      },
      "file_extension": ".py",
      "mimetype": "text/x-python",
      "name": "python",
      "nbconvert_exporter": "python",
      "pygments_lexer": "ipython3",
      "version": "3.8"
    },
    "kernelspec": {
      "name": "python",
      "display_name": "Pyolite",
      "language": "python"
    }
  },
  "nbformat_minor": 4,
  "nbformat": 4,
  "cells": [
    {
      "cell_type": "code",
      "source": "import numpy as np\na=np.array([-1,1])\nprint(a)\nb=np.array([1,1])\nprint(b)\nc=np.array([1,0])\nprint(c)\nd=np.array([0,1])\nprint(d)\n\ndef dp(x,y):\n    l=x.size\n    i=0\n    z=0\n    while i<l:\n        z=z+x[i]*y[i]\n        i=i+1\n    print(\"dot product\",x,\"and\",y,\"is\",z)\n    return(z)\n\ndp(a,b)\ndp(c,d)\ndp(b,c)",
      "metadata": {
        "trusted": true
      },
      "execution_count": 1,
      "outputs": [
        {
          "name": "stdout",
          "text": "[-1  1]\n[1 1]\n[1 0]\n[0 1]\ndot product [-1  1] and [1 1] is 0\ndot product [1 0] and [0 1] is 0\ndot product [1 1] and [1 0] is 1\n",
          "output_type": "stream"
        },
        {
          "execution_count": 1,
          "output_type": "execute_result",
          "data": {
            "text/plain": "1"
          },
          "metadata": {}
        }
      ]
    },
    {
      "cell_type": "code",
      "source": "arr1=np.array([1,2,3,4,5])\narr2=np.array([6,7,8,9,10])\nprint(\"Even arr1 \", arr1[1::2])\nprint(\"Even arr2 \", arr2[0::2])\nprint(\"Odd arr1 \", arr1[0:5:2])\nprint(\"Odd arr2 \",arr2[1:5:2])\n",
      "metadata": {
        "trusted": true
      },
      "execution_count": 5,
      "outputs": [
        {
          "name": "stdout",
          "text": "Even arr1  [2 4]\nEven arr2  [ 6  8 10]\nOdd arr1  [1 3 5]\nOdd arr2  [7 9]\n",
          "output_type": "stream"
        }
      ]
    },
    {
      "cell_type": "code",
      "source": "",
      "metadata": {},
      "execution_count": null,
      "outputs": []
    }
  ]
}